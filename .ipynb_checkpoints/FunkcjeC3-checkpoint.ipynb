{
 "cells": [
  {
   "cell_type": "code",
   "execution_count": 42,
   "id": "1322f26b",
   "metadata": {},
   "outputs": [],
   "source": [
    "import numpy as np\n",
    "import pandas as pd"
   ]
  },
  {
   "cell_type": "code",
   "execution_count": 2,
   "id": "efecab3c",
   "metadata": {},
   "outputs": [],
   "source": [
    "def analytical_solution(x_values, y_values):\n",
    "    avg_x = sum(x_values) / len(x_values)\n",
    "    avg_y = sum(y_values) / len(y_values)\n",
    "\n",
    "    numerator = sum((x - avg_x) * (y - avg_y) for x, y in zip(x_values, y_values))\n",
    "    denominator = sum((x - avg_x) ** 2 for x in x_values)\n",
    "\n",
    "    A = numerator / denominator\n",
    "    B = avg_y - A * avg_x\n",
    "    return A, B"
   ]
  },
  {
   "cell_type": "markdown",
   "id": "2785aa7c",
   "metadata": {},
   "source": [
    "<h1><center>Pt100</center></h1>"
   ]
  },
  {
   "cell_type": "code",
   "execution_count": 3,
   "id": "95bb1d26",
   "metadata": {},
   "outputs": [
    {
     "name": "stdout",
     "output_type": "stream",
     "text": [
      "A: 0.38\n",
      "B: 100.04\n"
     ]
    }
   ],
   "source": [
    "x_rosnace = [20, 25, 30, 35, 40, 45, 50, 55, 60, 65, 70]\n",
    "y_rosnace = [107.9, 109.5, 111.3, 113.4, 115.4, 117.4, 119.2, 121.0, 123.1, 124.9, 126.8]\n",
    "A, B = analytical_solution(x_rosnace, y_rosnace)\n",
    "print(\"A: {:.2f}\".format(A))\n",
    "print(\"B: {:.2f}\".format(B))"
   ]
  },
  {
   "cell_type": "code",
   "execution_count": 4,
   "id": "da210632",
   "metadata": {},
   "outputs": [
    {
     "name": "stdout",
     "output_type": "stream",
     "text": [
      "A: 0.38\n",
      "B: 100.60\n"
     ]
    }
   ],
   "source": [
    "x_malejace = [70, 65, 60, 55, 50, 45, 40, 35, 30, 25, 20]\n",
    "y_malejace = [127.3, 125.5, 123.6, 121.6, 119.8, 118.0, 116.0, 114.0, 111.9, 110.0, 108.4]\n",
    "\n",
    "# Call the function with the provided lists\n",
    "A, B = analytical_solution(x_malejace, y_malejace)\n",
    "\n",
    "# Print the coefficients A and B\n",
    "print(\"A: {:.2f}\".format(A))\n",
    "print(\"B: {:.2f}\".format(B))\n"
   ]
  },
  {
   "cell_type": "markdown",
   "id": "7f23c880",
   "metadata": {},
   "source": [
    "<h1><center>Pt1000</center></h1>"
   ]
  },
  {
   "cell_type": "code",
   "execution_count": 5,
   "id": "f47566d3",
   "metadata": {},
   "outputs": [
    {
     "name": "stdout",
     "output_type": "stream",
     "text": [
      "A: 3.82\n",
      "B: 996.37\n"
     ]
    }
   ],
   "source": [
    "x_rosnace = [20, 25, 30, 35, 40, 45, 50, 55, 60, 65, 70,]\n",
    "y_rosnace = [1075, 1091, 1109, 1129, 1150, 1170, 1187, 1205, 1226, 1245, 1264]\n",
    "A, B = analytical_solution(x_rosnace, y_rosnace)\n",
    "print(\"A: {:.2f}\".format(A))\n",
    "print(\"B: {:.2f}\".format(B))"
   ]
  },
  {
   "cell_type": "code",
   "execution_count": 6,
   "id": "536aa469",
   "metadata": {},
   "outputs": [
    {
     "name": "stdout",
     "output_type": "stream",
     "text": [
      "A: 3.83\n",
      "B: 1001.05\n"
     ]
    }
   ],
   "source": [
    "x_malejace = [70, 65, 60, 55, 50, 45, 40, 35, 30, 25, 20]\n",
    "y_malejace = [1269, 1250, 1231, 1211, 1192, 1175, 1155, 1135, 1114, 1096, 1079]\n",
    "# Call the function with the provided lists\n",
    "A, B = analytical_solution(x_malejace, y_malejace)\n",
    "\n",
    "# Print the coefficients A and B\n",
    "print(\"A: {:.2f}\".format(A))\n",
    "print(\"B: {:.2f}\".format(B))"
   ]
  },
  {
   "cell_type": "markdown",
   "id": "877c6711",
   "metadata": {},
   "source": [
    "<h1><center>NiCr-NiAl</center></h1>"
   ]
  },
  {
   "cell_type": "code",
   "execution_count": 7,
   "id": "e87e9d22",
   "metadata": {},
   "outputs": [
    {
     "name": "stdout",
     "output_type": "stream",
     "text": [
      "A: -0.04\n",
      "B: 0.84\n"
     ]
    }
   ],
   "source": [
    "x_rosnace = [20, 25, 30, 35, 40, 45, 50, 55, 60, 65, 70]\n",
    "y_rosnace = [0.02, -0.12, -0.34, -0.59, -0.80, -1.00, -1.10, -1.31, -1.57, -1.74, -2.00]\n",
    "A, B = analytical_solution(x_rosnace, y_rosnace)\n",
    "print(\"A: {:.2f}\".format(A))\n",
    "print(\"B: {:.2f}\".format(B))"
   ]
  },
  {
   "cell_type": "code",
   "execution_count": 8,
   "id": "692cda0f",
   "metadata": {},
   "outputs": [
    {
     "name": "stdout",
     "output_type": "stream",
     "text": [
      "A: -0.04\n",
      "B: 1.07\n"
     ]
    }
   ],
   "source": [
    "x_malejace = [70, 65, 60, 55, 50, 45, 40, 35, 30, 25, 20]\n",
    "y_malejace = [-2.00, -1.73, -1.53, -1.36, -1.10, -0.90, -0.68, -0.41, -0.20, 0.01, 0.14]\n",
    "# Call the function with the provided lists\n",
    "A, B = analytical_solution(x_malejace, y_malejace)\n",
    "\n",
    "# Print the coefficients A and B\n",
    "print(\"A: {:.2f}\".format(A))\n",
    "print(\"B: {:.2f}\".format(B))"
   ]
  },
  {
   "cell_type": "markdown",
   "id": "638c4cea",
   "metadata": {},
   "source": [
    "<h1><center>Fe-CuNi</center></h1>"
   ]
  },
  {
   "cell_type": "code",
   "execution_count": null,
   "id": "34519217",
   "metadata": {},
   "outputs": [],
   "source": []
  }
 ],
 "metadata": {
  "kernelspec": {
   "display_name": "Python 3 (ipykernel)",
   "language": "python",
   "name": "python3"
  },
  "language_info": {
   "codemirror_mode": {
    "name": "ipython",
    "version": 3
   },
   "file_extension": ".py",
   "mimetype": "text/x-python",
   "name": "python",
   "nbconvert_exporter": "python",
   "pygments_lexer": "ipython3",
   "version": "3.11.5"
  }
 },
 "nbformat": 4,
 "nbformat_minor": 5
}
